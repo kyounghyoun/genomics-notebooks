{
 "cells": [
  {
   "cell_type": "markdown",
   "metadata": {},
   "source": [
    "#Jupyter notebooks on Population Genomics' concepts"
   ]
  },
  {
   "cell_type": "markdown",
   "metadata": {},
   "source": [
    "##Introductory notebooks\n",
    "\n",
    "+ [Basic drift simulations](Basic/Drift.ipynb)\n",
    "\n",
    "+ [Populaction expansions and contractions](Basic/Bottleneck.ipynb)\n",
    "\n",
    "+ [Selection](Basic/Selection.ipynb)\n",
    "\n",
    "+ [Mutation](Basic/Mutation.ipynb)\n",
    "\n",
    "+ Demography\n",
    "   - [Island models](Basic/Island.ipynb)\n",
    "   - [Stepping Stone models](Basic/Stepping_Stone.ipynb)\n",
    "\n",
    "+ [The impact of sample sizes](Basic/Sample_Sizes.ipynb)"
   ]
  },
  {
   "cell_type": "code",
   "execution_count": null,
   "metadata": {
    "collapsed": true
   },
   "outputs": [],
   "source": []
  }
 ],
 "metadata": {
  "kernelspec": {
   "display_name": "Python 3",
   "language": "python",
   "name": "python3"
  },
  "language_info": {
   "codemirror_mode": {
    "name": "ipython",
    "version": 3
   },
   "file_extension": ".py",
   "mimetype": "text/x-python",
   "name": "python",
   "nbconvert_exporter": "python",
   "pygments_lexer": "ipython3",
   "version": "3.4.3"
  }
 },
 "nbformat": 4,
 "nbformat_minor": 0
}
